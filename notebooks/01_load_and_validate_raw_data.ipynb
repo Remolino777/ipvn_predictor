{
 "cells": [
  {
   "cell_type": "code",
   "execution_count": 1,
   "metadata": {},
   "outputs": [],
   "source": [
    "import pandas as pd\n",
    "import os\n",
    "import requests"
   ]
  },
  {
   "cell_type": "code",
   "execution_count": 2,
   "metadata": {},
   "outputs": [],
   "source": [
    "import tempfile"
   ]
  },
  {
   "cell_type": "code",
   "execution_count": 4,
   "metadata": {},
   "outputs": [],
   "source": [
    "url = 'https://www.banrep.gov.co/sites/default/files/Serie_historica_ipvnbr.xlsx'"
   ]
  },
  {
   "cell_type": "code",
   "execution_count": 5,
   "metadata": {},
   "outputs": [
    {
     "name": "stdout",
     "output_type": "stream",
     "text": [
      "<Response [200]>\n"
     ]
    }
   ],
   "source": [
    "#Muchos request me bloque la direccion ip\n",
    "response = requests.get(url)\n",
    "print(response)\n",
    "response.raise_for_status()"
   ]
  },
  {
   "cell_type": "markdown",
   "metadata": {},
   "source": [
    "### Donwload function"
   ]
  },
  {
   "cell_type": "code",
   "execution_count": 4,
   "metadata": {},
   "outputs": [],
   "source": [
    "path = r'D:\\0_Respaldo\\0_Proyectos_2024\\ML_proyects\\ipvn_predictor\\data\\raw'"
   ]
  },
  {
   "cell_type": "code",
   "execution_count": 5,
   "metadata": {},
   "outputs": [],
   "source": [
    "filename = os.path.join(path, 'ipvn.xlsx')\n",
    "with open(filename, 'wb') as file:\n",
    "            file.write(response.content)"
   ]
  },
  {
   "cell_type": "code",
   "execution_count": 10,
   "metadata": {},
   "outputs": [],
   "source": [
    "ruta = r'D:\\0_Respaldo\\0_Proyectos_2024\\ML_proyects\\ipvn_predictor\\data\\raw\\Serie_historica_ipvnbr (2).xlsx'"
   ]
  },
  {
   "cell_type": "markdown",
   "metadata": {},
   "source": [
    "### Function"
   ]
  },
  {
   "cell_type": "code",
   "execution_count": 6,
   "metadata": {},
   "outputs": [],
   "source": [
    "excel_file =  response.content\n"
   ]
  },
  {
   "cell_type": "code",
   "execution_count": 7,
   "metadata": {},
   "outputs": [
    {
     "name": "stderr",
     "output_type": "stream",
     "text": [
      "C:\\Users\\USUARIO\\AppData\\Local\\Temp\\ipykernel_18236\\2686647513.py:1: FutureWarning: Passing bytes to 'read_excel' is deprecated and will be removed in a future version. To read from a byte string, wrap it in a `BytesIO` object.\n",
      "  df = pd.read_excel(excel_file,\n"
     ]
    }
   ],
   "source": [
    "df = pd.read_excel(excel_file,\n",
    "                    engine='openpyxl',\n",
    "                    sheet_name='Serie_IPVNBR',\n",
    "                    header=2,\n",
    "                    skiprows=2,\n",
    "                    skipfooter=8\n",
    "                    )"
   ]
  },
  {
   "cell_type": "code",
   "execution_count": null,
   "metadata": {},
   "outputs": [],
   "source": []
  },
  {
   "cell_type": "code",
   "execution_count": 8,
   "metadata": {},
   "outputs": [
    {
     "data": {
      "text/html": [
       "<div>\n",
       "<style scoped>\n",
       "    .dataframe tbody tr th:only-of-type {\n",
       "        vertical-align: middle;\n",
       "    }\n",
       "\n",
       "    .dataframe tbody tr th {\n",
       "        vertical-align: top;\n",
       "    }\n",
       "\n",
       "    .dataframe thead th {\n",
       "        text-align: right;\n",
       "    }\n",
       "</style>\n",
       "<table border=\"1\" class=\"dataframe\">\n",
       "  <thead>\n",
       "    <tr style=\"text-align: right;\">\n",
       "      <th></th>\n",
       "      <th>Unnamed: 0</th>\n",
       "      <th>Bogotá</th>\n",
       "      <th>Alrededores de Bogotá4</th>\n",
       "      <th>Medellín</th>\n",
       "      <th>Cali</th>\n",
       "      <th>Agregado</th>\n",
       "      <th>Unnamed: 6</th>\n",
       "      <th>Bogotá.1</th>\n",
       "      <th>Alrededores de Bogotá4,5</th>\n",
       "      <th>Medellín.1</th>\n",
       "      <th>Cali.1</th>\n",
       "      <th>Agregado6</th>\n",
       "    </tr>\n",
       "  </thead>\n",
       "  <tbody>\n",
       "    <tr>\n",
       "      <th>0</th>\n",
       "      <td>2004-01-01</td>\n",
       "      <td>70.822347</td>\n",
       "      <td>77.485793</td>\n",
       "      <td>82.745082</td>\n",
       "      <td>78.583333</td>\n",
       "      <td>76.181847</td>\n",
       "      <td>NaN</td>\n",
       "      <td>80.763841</td>\n",
       "      <td>88.362650</td>\n",
       "      <td>93.876603</td>\n",
       "      <td>89.656405</td>\n",
       "      <td>86.780829</td>\n",
       "    </tr>\n",
       "    <tr>\n",
       "      <th>1</th>\n",
       "      <td>2004-02-01</td>\n",
       "      <td>71.583509</td>\n",
       "      <td>77.564782</td>\n",
       "      <td>82.108312</td>\n",
       "      <td>79.919206</td>\n",
       "      <td>76.448672</td>\n",
       "      <td>NaN</td>\n",
       "      <td>80.731498</td>\n",
       "      <td>87.477145</td>\n",
       "      <td>91.476975</td>\n",
       "      <td>90.402993</td>\n",
       "      <td>86.017821</td>\n",
       "    </tr>\n",
       "    <tr>\n",
       "      <th>2</th>\n",
       "      <td>2004-03-01</td>\n",
       "      <td>71.873342</td>\n",
       "      <td>78.056214</td>\n",
       "      <td>82.037061</td>\n",
       "      <td>81.662989</td>\n",
       "      <td>76.744760</td>\n",
       "      <td>NaN</td>\n",
       "      <td>80.232447</td>\n",
       "      <td>87.134408</td>\n",
       "      <td>90.903185</td>\n",
       "      <td>91.353097</td>\n",
       "      <td>85.553651</td>\n",
       "    </tr>\n",
       "    <tr>\n",
       "      <th>3</th>\n",
       "      <td>2004-04-01</td>\n",
       "      <td>72.310197</td>\n",
       "      <td>77.639297</td>\n",
       "      <td>83.303826</td>\n",
       "      <td>82.149931</td>\n",
       "      <td>77.590907</td>\n",
       "      <td>NaN</td>\n",
       "      <td>80.427434</td>\n",
       "      <td>86.354756</td>\n",
       "      <td>91.929603</td>\n",
       "      <td>91.543996</td>\n",
       "      <td>86.171395</td>\n",
       "    </tr>\n",
       "    <tr>\n",
       "      <th>4</th>\n",
       "      <td>2004-05-01</td>\n",
       "      <td>72.319742</td>\n",
       "      <td>77.681884</td>\n",
       "      <td>82.742025</td>\n",
       "      <td>83.128632</td>\n",
       "      <td>77.501588</td>\n",
       "      <td>NaN</td>\n",
       "      <td>80.046235</td>\n",
       "      <td>85.981258</td>\n",
       "      <td>91.089647</td>\n",
       "      <td>92.343716</td>\n",
       "      <td>85.722814</td>\n",
       "    </tr>\n",
       "  </tbody>\n",
       "</table>\n",
       "</div>"
      ],
      "text/plain": [
       "  Unnamed: 0     Bogotá  Alrededores de Bogotá4   Medellín       Cali  \\\n",
       "0 2004-01-01  70.822347               77.485793  82.745082  78.583333   \n",
       "1 2004-02-01  71.583509               77.564782  82.108312  79.919206   \n",
       "2 2004-03-01  71.873342               78.056214  82.037061  81.662989   \n",
       "3 2004-04-01  72.310197               77.639297  83.303826  82.149931   \n",
       "4 2004-05-01  72.319742               77.681884  82.742025  83.128632   \n",
       "\n",
       "    Agregado  Unnamed: 6   Bogotá.1  Alrededores de Bogotá4,5  Medellín.1  \\\n",
       "0  76.181847         NaN  80.763841                 88.362650   93.876603   \n",
       "1  76.448672         NaN  80.731498                 87.477145   91.476975   \n",
       "2  76.744760         NaN  80.232447                 87.134408   90.903185   \n",
       "3  77.590907         NaN  80.427434                 86.354756   91.929603   \n",
       "4  77.501588         NaN  80.046235                 85.981258   91.089647   \n",
       "\n",
       "      Cali.1  Agregado6  \n",
       "0  89.656405  86.780829  \n",
       "1  90.402993  86.017821  \n",
       "2  91.353097  85.553651  \n",
       "3  91.543996  86.171395  \n",
       "4  92.343716  85.722814  "
      ]
     },
     "execution_count": 8,
     "metadata": {},
     "output_type": "execute_result"
    }
   ],
   "source": [
    "df.head()"
   ]
  }
 ],
 "metadata": {
  "kernelspec": {
   "display_name": "src-NkLovjh6-py3.11",
   "language": "python",
   "name": "python3"
  },
  "language_info": {
   "codemirror_mode": {
    "name": "ipython",
    "version": 3
   },
   "file_extension": ".py",
   "mimetype": "text/x-python",
   "name": "python",
   "nbconvert_exporter": "python",
   "pygments_lexer": "ipython3",
   "version": "3.11.5"
  }
 },
 "nbformat": 4,
 "nbformat_minor": 2
}

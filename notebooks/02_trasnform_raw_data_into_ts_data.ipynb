{
 "cells": [
  {
   "cell_type": "code",
   "execution_count": 1,
   "metadata": {},
   "outputs": [],
   "source": [
    "import pandas as pd"
   ]
  },
  {
   "cell_type": "code",
   "execution_count": 2,
   "metadata": {},
   "outputs": [],
   "source": [
    "path = r'D:\\0_Respaldo\\0_Proyectos_2024\\ML_proyects\\ipvn_predictor\\data\\raw\\Serie_historica_ipvnbr (2).xlsx'"
   ]
  },
  {
   "cell_type": "code",
   "execution_count": 3,
   "metadata": {},
   "outputs": [],
   "source": [
    "data = pd.read_excel(path,\n",
    "                    engine='openpyxl',\n",
    "                    sheet_name='Serie_IPVNBR',\n",
    "                    header=2,\n",
    "                    skiprows=2,\n",
    "                    skipfooter=8\n",
    "                    )"
   ]
  },
  {
   "cell_type": "code",
   "execution_count": 7,
   "metadata": {},
   "outputs": [],
   "source": [
    "df = data[['Unnamed: 0','Bogotá.1','Alrededores de Bogotá4,5','Medellín.1','Cali.1']]"
   ]
  },
  {
   "cell_type": "code",
   "execution_count": 10,
   "metadata": {},
   "outputs": [],
   "source": [
    "df = df.rename(columns={'Unnamed: 0':'Fecha',\n",
    "                    'Bogotá.1':'Bogotá',\n",
    "                    'Alrededores de Bogotá4,5':'Alrededores de Bogotá',\n",
    "                    'Medellín.1':'Medellín',\n",
    "                    'Cali.1':'Cali'\n",
    "                    })"
   ]
  },
  {
   "cell_type": "code",
   "execution_count": 11,
   "metadata": {},
   "outputs": [
    {
     "data": {
      "text/html": [
       "<div>\n",
       "<style scoped>\n",
       "    .dataframe tbody tr th:only-of-type {\n",
       "        vertical-align: middle;\n",
       "    }\n",
       "\n",
       "    .dataframe tbody tr th {\n",
       "        vertical-align: top;\n",
       "    }\n",
       "\n",
       "    .dataframe thead th {\n",
       "        text-align: right;\n",
       "    }\n",
       "</style>\n",
       "<table border=\"1\" class=\"dataframe\">\n",
       "  <thead>\n",
       "    <tr style=\"text-align: right;\">\n",
       "      <th></th>\n",
       "      <th>Fecha</th>\n",
       "      <th>Bogotá</th>\n",
       "      <th>Alrededores de Bogotá</th>\n",
       "      <th>Medellín</th>\n",
       "      <th>Cali</th>\n",
       "    </tr>\n",
       "  </thead>\n",
       "  <tbody>\n",
       "    <tr>\n",
       "      <th>0</th>\n",
       "      <td>2004-01-01</td>\n",
       "      <td>80.763841</td>\n",
       "      <td>88.362650</td>\n",
       "      <td>93.876603</td>\n",
       "      <td>89.656405</td>\n",
       "    </tr>\n",
       "    <tr>\n",
       "      <th>1</th>\n",
       "      <td>2004-02-01</td>\n",
       "      <td>80.731498</td>\n",
       "      <td>87.477145</td>\n",
       "      <td>91.476975</td>\n",
       "      <td>90.402993</td>\n",
       "    </tr>\n",
       "  </tbody>\n",
       "</table>\n",
       "</div>"
      ],
      "text/plain": [
       "       Fecha     Bogotá  Alrededores de Bogotá   Medellín       Cali\n",
       "0 2004-01-01  80.763841              88.362650  93.876603  89.656405\n",
       "1 2004-02-01  80.731498              87.477145  91.476975  90.402993"
      ]
     },
     "execution_count": 11,
     "metadata": {},
     "output_type": "execute_result"
    }
   ],
   "source": [
    "df.head(2)"
   ]
  },
  {
   "cell_type": "code",
   "execution_count": 4,
   "metadata": {},
   "outputs": [],
   "source": [
    "c_list = ['Bogotá', 'Alrededores de Bogotá', 'Medellín', 'Cali']"
   ]
  },
  {
   "cell_type": "code",
   "execution_count": 13,
   "metadata": {},
   "outputs": [],
   "source": [
    "#Bucle\n",
    "for i in c_list:\n",
    "    df_place = df[['Fecha', i]]\n",
    "    path = r'D:\\0_Respaldo\\0_Proyectos_2024\\ML_proyects\\ipvn_predictor\\data\\transformed\\ts_'\n",
    "    df_place.to_parquet(f'{path}{i}.parquet')"
   ]
  }
 ],
 "metadata": {
  "kernelspec": {
   "display_name": ".venv",
   "language": "python",
   "name": "python3"
  },
  "language_info": {
   "codemirror_mode": {
    "name": "ipython",
    "version": 3
   },
   "file_extension": ".py",
   "mimetype": "text/x-python",
   "name": "python",
   "nbconvert_exporter": "python",
   "pygments_lexer": "ipython3",
   "version": "3.11.5"
  }
 },
 "nbformat": 4,
 "nbformat_minor": 2
}

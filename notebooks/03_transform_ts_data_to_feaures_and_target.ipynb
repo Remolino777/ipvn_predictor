{
 "cells": [
  {
   "cell_type": "code",
   "execution_count": 6,
   "metadata": {},
   "outputs": [],
   "source": [
    "import pandas as pd\n",
    "from tqdm.notebook import tqdm # Loading bar\n",
    "import numpy as np"
   ]
  },
  {
   "cell_type": "code",
   "execution_count": 3,
   "metadata": {},
   "outputs": [],
   "source": [
    "# Funcion para cortar indices y cerar los dataframes\n",
    "def get_cutoff_indices(\n",
    "    data: pd.DataFrame,\n",
    "    n_features: int,\n",
    "    step_size: int\n",
    "    ) -> list:\n",
    "\n",
    "        stop_position = len(data) - 1\n",
    "        \n",
    "        # Start the first sub-sequence at index position 0\n",
    "        subseq_first_idx = 0\n",
    "        subseq_mid_idx = n_features\n",
    "        subseq_last_idx = n_features + 1\n",
    "        indices = []\n",
    "        \n",
    "        while subseq_last_idx <= stop_position:\n",
    "            indices.append((subseq_first_idx, subseq_mid_idx, subseq_last_idx))\n",
    "            \n",
    "            subseq_first_idx += step_size\n",
    "            subseq_mid_idx += step_size\n",
    "            subseq_last_idx += step_size\n",
    "\n",
    "        return indices"
   ]
  },
  {
   "cell_type": "code",
   "execution_count": 4,
   "metadata": {},
   "outputs": [],
   "source": [
    "ciudades = ['Bogotá', 'Alrededores de Bogotá', 'Medellín', 'Cali']"
   ]
  },
  {
   "cell_type": "code",
   "execution_count": 7,
   "metadata": {},
   "outputs": [
    {
     "data": {
      "application/vnd.jupyter.widget-view+json": {
       "model_id": "9eb9f8a882fe4597acd05ed213cd0137",
       "version_major": 2,
       "version_minor": 0
      },
      "text/plain": [
       "0it [00:00, ?it/s]"
      ]
     },
     "metadata": {},
     "output_type": "display_data"
    },
    {
     "name": "stdout",
     "output_type": "stream",
     "text": [
      "Locación: Bogotá\n",
      "     month_1    month_2    month_3    month_4    month_5    month_6  \\\n",
      "0  80.763840  80.731499  80.232445  80.427437  80.046234  79.389984   \n",
      "1  80.731499  80.232445  80.427437  80.046234  79.389984  80.932686   \n",
      "2  80.232445  80.427437  80.046234  79.389984  80.932686  81.084503   \n",
      "\n",
      "     month_7    month_8    month_9   month_10   month_11   month_12     Target  \n",
      "0  80.932686  81.084503  81.841698  82.722580  82.974777  83.240219  83.997917  \n",
      "1  81.084503  81.841698  82.722580  82.974777  83.240219  83.997917  83.695885  \n",
      "2  81.841698  82.722580  82.974777  83.240219  83.997917  83.695885  83.778946  \n"
     ]
    },
    {
     "name": "stderr",
     "output_type": "stream",
     "text": [
      "C:\\Users\\USUARIO\\AppData\\Local\\Temp\\ipykernel_19432\\303910568.py:19: DeprecationWarning: Conversion of an array with ndim > 0 to a scalar is deprecated, and will error in future. Ensure you extract a single element from your array before performing this operation. (Deprecated NumPy 1.25.)\n",
      "  y[u] = df_c.iloc[idx[1]:idx[2]][i].values  # Asegúrate de seleccionar la columna correcta\n"
     ]
    },
    {
     "data": {
      "application/vnd.jupyter.widget-view+json": {
       "model_id": "d578fee6df014a4c92196be11a924a59",
       "version_major": 2,
       "version_minor": 0
      },
      "text/plain": [
       "0it [00:00, ?it/s]"
      ]
     },
     "metadata": {},
     "output_type": "display_data"
    },
    {
     "name": "stderr",
     "output_type": "stream",
     "text": [
      "C:\\Users\\USUARIO\\AppData\\Local\\Temp\\ipykernel_19432\\303910568.py:19: DeprecationWarning: Conversion of an array with ndim > 0 to a scalar is deprecated, and will error in future. Ensure you extract a single element from your array before performing this operation. (Deprecated NumPy 1.25.)\n",
      "  y[u] = df_c.iloc[idx[1]:idx[2]][i].values  # Asegúrate de seleccionar la columna correcta\n"
     ]
    },
    {
     "name": "stdout",
     "output_type": "stream",
     "text": [
      "Locación: Alrededores de Bogotá\n",
      "     month_1    month_2    month_3    month_4    month_5    month_6  \\\n",
      "0  88.362648  87.477142  87.134407  86.354759  85.981255  85.001823   \n",
      "1  87.477142  87.134407  86.354759  85.981255  85.001823  88.356155   \n",
      "2  87.134407  86.354759  85.981255  85.001823  88.356155  85.807068   \n",
      "\n",
      "     month_7    month_8    month_9   month_10   month_11   month_12     Target  \n",
      "0  88.356155  85.807068  86.486053  86.820099  87.656525  88.146454  92.041283  \n",
      "1  85.807068  86.486053  86.820099  87.656525  88.146454  92.041283  91.113678  \n",
      "2  86.486053  86.820099  87.656525  88.146454  92.041283  91.113678  89.875999  \n"
     ]
    },
    {
     "data": {
      "application/vnd.jupyter.widget-view+json": {
       "model_id": "529b65b4d3a140cba4af619e423aa950",
       "version_major": 2,
       "version_minor": 0
      },
      "text/plain": [
       "0it [00:00, ?it/s]"
      ]
     },
     "metadata": {},
     "output_type": "display_data"
    },
    {
     "name": "stderr",
     "output_type": "stream",
     "text": [
      "C:\\Users\\USUARIO\\AppData\\Local\\Temp\\ipykernel_19432\\303910568.py:19: DeprecationWarning: Conversion of an array with ndim > 0 to a scalar is deprecated, and will error in future. Ensure you extract a single element from your array before performing this operation. (Deprecated NumPy 1.25.)\n",
      "  y[u] = df_c.iloc[idx[1]:idx[2]][i].values  # Asegúrate de seleccionar la columna correcta\n"
     ]
    },
    {
     "name": "stdout",
     "output_type": "stream",
     "text": [
      "Locación: Medellín\n",
      "     month_1    month_2    month_3    month_4    month_5    month_6  \\\n",
      "0  93.876602  91.476974  90.903183  91.929604  91.089645  90.603065   \n",
      "1  91.476974  90.903183  91.929604  91.089645  90.603065  90.886086   \n",
      "2  90.903183  91.929604  91.089645  90.603065  90.886086  91.752625   \n",
      "\n",
      "     month_7    month_8    month_9   month_10   month_11   month_12     Target  \n",
      "0  90.886086  91.752625  90.684303  89.639824  91.041107  90.721184  88.829124  \n",
      "1  91.752625  90.684303  89.639824  91.041107  90.721184  88.829124  88.375793  \n",
      "2  90.684303  89.639824  91.041107  90.721184  88.829124  88.375793  87.633331  \n"
     ]
    },
    {
     "data": {
      "application/vnd.jupyter.widget-view+json": {
       "model_id": "195016d4e9954f9db0f090628665de2c",
       "version_major": 2,
       "version_minor": 0
      },
      "text/plain": [
       "0it [00:00, ?it/s]"
      ]
     },
     "metadata": {},
     "output_type": "display_data"
    },
    {
     "name": "stdout",
     "output_type": "stream",
     "text": [
      "Locación: Cali\n",
      "     month_1    month_2    month_3    month_4    month_5    month_6  \\\n",
      "0  89.656403  90.402992  91.353096  91.543999  92.343719  92.665558   \n",
      "1  90.402992  91.353096  91.543999  92.343719  92.665558  92.577072   \n",
      "2  91.353096  91.543999  92.343719  92.665558  92.577072  93.002182   \n",
      "\n",
      "     month_7    month_8    month_9   month_10   month_11   month_12     Target  \n",
      "0  92.577072  93.002182  92.773102  93.198708  93.620193  95.944809  97.159386  \n",
      "1  93.002182  92.773102  93.198708  93.620193  95.944809  97.159386  96.844139  \n",
      "2  92.773102  93.198708  93.620193  95.944809  97.159386  96.844139  96.401581  \n"
     ]
    },
    {
     "name": "stderr",
     "output_type": "stream",
     "text": [
      "C:\\Users\\USUARIO\\AppData\\Local\\Temp\\ipykernel_19432\\303910568.py:19: DeprecationWarning: Conversion of an array with ndim > 0 to a scalar is deprecated, and will error in future. Ensure you extract a single element from your array before performing this operation. (Deprecated NumPy 1.25.)\n",
      "  y[u] = df_c.iloc[idx[1]:idx[2]][i].values  # Asegúrate de seleccionar la columna correcta\n"
     ]
    }
   ],
   "source": [
    "\n",
    "for i in ciudades:\n",
    "    ruta = r'D:\\0_Respaldo\\0_Proyectos_2024\\ML_proyects\\ipvn_predictor\\data\\transformed\\ts_'\n",
    "    df_c = pd.read_parquet(f'{ruta}{i}.parquet')\n",
    "    df_c.reset_index(drop=True, inplace=True)  # Asegúrate de que los índices se restablecen\n",
    "\n",
    "    n_features = 12\n",
    "    step_size = 1\n",
    "\n",
    "    indices = get_cutoff_indices(df_c, n_features, step_size)\n",
    "    \n",
    "    n_examples = len(indices)\n",
    "    x = np.ndarray(shape=(n_examples, n_features), dtype=np.float32)\n",
    "    y = np.ndarray(shape=(n_examples), dtype=np.float32)\n",
    "    \n",
    "    months = []\n",
    "\n",
    "    for u, idx in tqdm(enumerate(indices)):\n",
    "        x[u, :] = df_c.iloc[idx[0]:idx[1]][i].values\n",
    "        y[u] = df_c.iloc[idx[1]:idx[2]][i].values  # Asegúrate de seleccionar la columna correcta\n",
    "        months.append(df_c.iloc[idx[1]]['Fecha'])\n",
    "        \n",
    "    feature = pd.DataFrame(x, columns=[f'month_{j+1}' for j in range(n_features)])\n",
    "    \n",
    "    target = pd.DataFrame(y, columns=['Target'])\n",
    "    \n",
    "    # Crear el DataFrame con los datos concatenados.\n",
    "    df_ready = pd.concat([feature, target], axis=1)\n",
    "    \n",
    "    # Exportar los datos al archivo train\n",
    "    ruta = r'D:\\0_Respaldo\\0_Proyectos_2024\\ML_proyects\\ipvn_predictor\\data\\transformed\\ft_'\n",
    "    df_ready.to_parquet(f'{ruta}{i}.parquet')\n",
    "    print(f'Locación: {i}')\n",
    "    print(df_ready.head(3))    \n",
    "    \n",
    "    "
   ]
  }
 ],
 "metadata": {
  "kernelspec": {
   "display_name": ".venv",
   "language": "python",
   "name": "python3"
  },
  "language_info": {
   "codemirror_mode": {
    "name": "ipython",
    "version": 3
   },
   "file_extension": ".py",
   "mimetype": "text/x-python",
   "name": "python",
   "nbconvert_exporter": "python",
   "pygments_lexer": "ipython3",
   "version": "3.11.5"
  }
 },
 "nbformat": 4,
 "nbformat_minor": 2
}
